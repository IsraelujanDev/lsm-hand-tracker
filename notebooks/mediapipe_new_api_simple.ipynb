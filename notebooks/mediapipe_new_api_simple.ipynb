{
 "cells": [
  {
   "cell_type": "markdown",
   "id": "b657ca76",
   "metadata": {},
   "source": [
    "Mediapipe contains a set of pre-trained models for various tasks, including face detection, hand tracking, and pose estimation. These models are designed to work efficiently on mobile devices and can be used in real-time applications.\n",
    "in this notebook, we will explore how to use mediapipe for face detection and hand tracking. We will also discuss how to visualize the results using OpenCV.\n",
    "\n",
    "**Note:** we are using the latest version of mediapipe (0.10.1) that means we have to import the model to create a task instead of using the old interface that involves using the `mediapipe.solutions` module. The new interface is more flexible and allows for easier integration with other libraries and frameworks.\n",
    "# Import necessary libraries"
   ]
  },
  {
   "cell_type": "code",
   "execution_count": 4,
   "id": "8f609931",
   "metadata": {},
   "outputs": [],
   "source": [
    "import cv2\n",
    "import mediapipe as mp\n",
    "\n",
    "import os\n",
    "\n",
    "from mediapipe.tasks import python\n",
    "from mediapipe.tasks.python import vision"
   ]
  },
  {
   "cell_type": "markdown",
   "id": "1f7c538b",
   "metadata": {},
   "source": [
    "Model link https://ai.google.dev/edge/mediapipe/solutions/vision/hand_landmarker/index#models"
   ]
  },
  {
   "cell_type": "code",
   "execution_count": 5,
   "id": "bfec9235",
   "metadata": {},
   "outputs": [],
   "source": [
    "# Load variables from .env file for local development or get it from the environment variables in production\n",
    "try:\n",
    "    from dotenv import load_dotenv\n",
    "    load_dotenv()\n",
    "except ImportError:\n",
    "    pass  # Safe fallback if it's not available in prod\n",
    "\n",
    "base_path = os.getenv(\"LSM_BASE\")\n",
    "if not base_path:\n",
    "    raise ValueError(\"❌ Environment variable 'LSM_BASE' is not set!\")\n",
    "\n",
    "model_path = os.path.join(base_path, \"models\", \"hand_landmarker.task\")\n",
    "image_path = os.path.join(base_path, \"data\", \"images\", \"image-003.png\")\n"
   ]
  },
  {
   "cell_type": "code",
   "execution_count": 6,
   "id": "f23d4517",
   "metadata": {},
   "outputs": [
    {
     "name": "stdout",
     "output_type": "stream",
     "text": [
      "✅ Hands detected\n"
     ]
    }
   ],
   "source": [
    "# Setup MediaPipe classes\n",
    "BaseOptions = mp.tasks.BaseOptions\n",
    "HandLandmarker = mp.tasks.vision.HandLandmarker\n",
    "HandLandmarkerOptions = mp.tasks.vision.HandLandmarkerOptions\n",
    "VisionRunningMode = mp.tasks.vision.RunningMode\n",
    "\n",
    "# Create the landmarker instance\n",
    "options = HandLandmarkerOptions(\n",
    "    base_options=BaseOptions(model_asset_path=model_path),\n",
    "    running_mode=VisionRunningMode.IMAGE,\n",
    "    num_hands=2\n",
    ")\n",
    "\n",
    "with HandLandmarker.create_from_options(options) as hand_landmarker:\n",
    "    # Load and process the image\n",
    "    mp_image = mp.Image.create_from_file(image_path)\n",
    "    result = hand_landmarker.detect(mp_image)\n",
    "\n",
    "    # Load image with OpenCV for visualization\n",
    "    image_bgr = cv2.imread(image_path)\n",
    "\n",
    "    # Draw landmarks if found\n",
    "    if result.hand_landmarks:\n",
    "        for hand in result.hand_landmarks:\n",
    "            for landmark in hand:\n",
    "                x = int(landmark.x * image_bgr.shape[1])\n",
    "                y = int(landmark.y * image_bgr.shape[0])\n",
    "                cv2.circle(image_bgr, (x, y), 4, (0, 255, 0), -1)\n",
    "\n",
    "        print(\"✅ Hands detected\")\n",
    "    else:\n",
    "        print(\"❌ No hands detected\")\n",
    "\n",
    "    # Show the image with landmarks\n",
    "    cv2.imshow(\"MediaPipe Hand Landmarks\", image_bgr)\n",
    "    cv2.waitKey(0)\n",
    "    cv2.destroyAllWindows()\n"
   ]
  }
 ],
 "metadata": {
  "kernelspec": {
   "display_name": ".venv",
   "language": "python",
   "name": "python3"
  },
  "language_info": {
   "codemirror_mode": {
    "name": "ipython",
    "version": 3
   },
   "file_extension": ".py",
   "mimetype": "text/x-python",
   "name": "python",
   "nbconvert_exporter": "python",
   "pygments_lexer": "ipython3",
   "version": "3.10.17"
  }
 },
 "nbformat": 4,
 "nbformat_minor": 5
}

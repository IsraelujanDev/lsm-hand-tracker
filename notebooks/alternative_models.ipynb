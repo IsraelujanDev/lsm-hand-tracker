{
 "cells": [
  {
   "cell_type": "markdown",
   "metadata": {},
   "source": [
    "# Avance 4: Modelos Alternativos\n",
    "\n",
    "**MAESTRÍA EN INTELIGENCIA ARTIFICIAL APLICADA**\n",
    "\n",
    "**Curso: TC5035.10 - Proyecto Integrador**\n",
    "\n",
    "Tecnológico de Monterrey\n",
    "\n",
    "**Profesor:** Dr. Horacio Martínez Alfaro\n",
    "\n",
    "---\n",
    "\n",
    "**Equipo #:** [Tu Número de Equipo Aquí]\n",
    "\n",
    "**Integrantes:**\n",
    "* [Nombre Completo - Matrícula]\n",
    "* [Nombre Completo - Matrícula]\n",
    "* [Nombre Completo - Matrícula]\n",
    "\n",
    "---\n",
    "\n",
    "## Objetivo\n",
    "\n",
    "Este avance implica construir múltiples modelos (individuales, no ensambles) relevantes para resolver el problema de clasificación de gestos y evaluar su desempeño. Diferentes algoritmos pueden comportarse de manera óptima en diferentes tipos de datos o tareas. La construcción de modelos alternativos permite explorar y evaluar cuál de ellos proporciona el mejor rendimiento para este problema particular.\n",
    "\n",
    "Además, los modelos se pueden ajustar para determinar si se puede mejorar su rendimiento. Diferentes configuraciones de hiperparámetros pueden afectar significativamente el rendimiento de un modelo. Construir modelos alternativos implica explorar y ajustar estos hiperparámetros para encontrar la configuración óptima.\n",
    "\n",
    "Las siguientes son acciones que se abordarán en este avance:\n",
    "1.  Construir al menos 6 modelos diferentes (individuales, no ensambles), utilizando algoritmos variados.\n",
    "2.  Comparar el rendimiento de los modelos obtenidos.\n",
    "3.  Seleccionar los dos modelos que proporcionen el mejor rendimiento.\n",
    "4.  Ajustar los dos mejores modelos.\n",
    "5.  Elegir el modelo individual final."
   ]
  },
  {
   "cell_type": "markdown",
   "metadata": {},
   "source": [
    "## 1. Configuración del Entorno e Importación de Librerías"
   ]
  },
  {
   "cell_type": "code",
   "execution_count": null,
   "metadata": {},
   "outputs": [],
   "source": [
    "# Instalación de gdown para descargar el dataset desde Google Drive (si no está instalado)\n",
    "!pip install -q gdown\n",
    "\n",
    "# Librerías generales\n",
    "import pandas as pd\n",
    "import numpy as np\n",
    "import time\n",
    "import os\n",
    "import gdown\n",
    "\n",
    "# Preprocesamiento y división de datos\n",
    "from sklearn.model_selection import train_test_split, GridSearchCV, StratifiedKFold\n",
    "from sklearn.preprocessing import StandardScaler, LabelEncoder\n",
    "\n",
    "# Modelos de clasificación\n",
    "from sklearn.linear_model import LogisticRegression\n",
    "from sklearn.neighbors import KNeighborsClassifier\n",
    "from sklearn.tree import DecisionTreeClassifier\n",
    "from sklearn.svm import SVC\n",
    "from sklearn.naive_bayes import GaussianNB\n",
    "from sklearn.discriminant_analysis import LinearDiscriminantAnalysis\n",
    "from sklearn.neural_network import MLPClassifier\n",
    "\n",
    "# Métricas de evaluación\n",
    "from sklearn.metrics import accuracy_score, precision_score, recall_score, f1_score, confusion_matrix, classification_report\n",
    "\n",
    "# Visualización\n",
    "import matplotlib.pyplot as plt\n",
    "import seaborn as sns\n",
    "\n",
    "# Ignorar advertencias (opcional, para limpieza de salida)\n",
    "import warnings\n",
    "warnings.filterwarnings('ignore')"
   ]
  },
  {
   "cell_type": "markdown",
   "metadata": {},
   "source": [
    "## 2. Carga y Preparación de Datos\n",
    "\n",
    "Se cargará el conjunto de datos `gestures_balanced.csv`. Este archivo contiene características (componentes principales) y etiquetas para la clasificación de gestos."
   ]
  },
  {
   "cell_type": "code",
   "execution_count": null,
   "metadata": {},
   "outputs": [],
   "source": [
    "# ID del archivo en Google Drive\n",
    "file_id = '1KsgEyYatG6dSkEJwjNyva43IBDoyW4li'\n",
    "output_path = 'gestures_balanced.csv'\n",
    "\n",
    "# Descargar el archivo si no existe localmente\n",
    "if not os.path.exists(output_path):\n",
    "    print(f\"Descargando {output_path}...\")\n",
    "    gdown.download(f'https://drive.google.com/uc?id={file_id}', output_path, quiet=False)\n",
    "else:\n",
    "    print(f\"{output_path} ya existe.\")\n",
    "\n",
    "# Cargar el dataset\n",
    "df = pd.read_csv(output_path)\n",
    "\n",
    "print(\"\\nPrimeras 5 filas del dataset:\")\n",
    "print(df.head())\n",
    "\n",
    "print(\"\\nInformación del dataset:\")\n",
    "df.info()\n",
    "\n",
    "print(\"\\nDistribución de clases:\")\n",
    "print(df['label'].value_counts())"
   ]
  },
  {
   "cell_type": "markdown",
   "metadata": {},
   "source": [
    "### 2.1. Separación de Características (X) y Variable Objetivo (y)"
   ]
  },
  {
   "cell_type": "code",
   "execution_count": null,
   "metadata": {},
   "outputs": [],
   "source": [
    "X = df.drop('label', axis=1)\n",
    "y_raw = df['label']\n",
    "\n",
    "# Codificar las etiquetas (variable objetivo) a números, ya que algunos modelos lo requieren\n",
    "label_encoder = LabelEncoder()\n",
    "y = label_encoder.fit_transform(y_raw)\n",
    "class_names = label_encoder.classes_  # Guardar los nombres originales de las clases\n",
    "\n",
    "print(\"Características (X) shape:\", X.shape)\n",
    "print(\"Variable objetivo (y) shape:\", y.shape)\n",
    "print(\"Primeras 5 etiquetas codificadas:\", y[:5])\n",
    "print(\"Nombres de las clases originales:\", class_names)"
   ]
  },
  {
   "cell_type": "markdown",
   "metadata": {},
   "source": [
    "### 2.2. División en Conjuntos de Entrenamiento y Prueba\n",
    "Se dividirá el dataset en 80% para entrenamiento y 20% para prueba, utilizando estratificación para mantener la proporción de clases en ambos conjuntos."
   ]
  },
  {
   "cell_type": "code",
   "execution_count": null,
   "metadata": {},
   "outputs": [],
   "source": [
    "X_train, X_test, y_train, y_test = train_test_split(\n",
    "    X, y, test_size=0.2, random_state=42, stratify=y\n",
    ")\n",
    "\n",
    "print(\"Tamaño de X_train:\", X_train.shape)\n",
    "print(\"Tamaño de X_test:\", X_test.shape)\n",
    "print(\"Tamaño de y_train:\", y_train.shape)\n",
    "print(\"Tamaño de y_test:\", y_test.shape)"
   ]
  },
  {
   "cell_type": "markdown",
   "metadata": {},
   "source": [
    "### 2.3. Escalado de Características (Opcional pero Recomendado)\n",
    "Dado que los datos ya son componentes principales (resultado de PCA), podrían estar ya escalados. Sin embargo, para algoritmos sensibles a la escala como SVM o KNN, aplicar `StandardScaler` puede ser beneficioso."
   ]
  },
  {
   "cell_type": "code",
   "execution_count": null,
   "metadata": {},
   "outputs": [],
   "source": [
    "scaler = StandardScaler()\n",
    "X_train_scaled = scaler.fit_transform(X_train)\n",
    "X_test_scaled  = scaler.transform(X_test)\n",
    "\n",
    "print(\"Primeras 5 filas de X_train escalado (primeras 5 características):\")\n",
    "print(X_train_scaled[:5, :5])"
   ]
  },
  {
   "cell_type": "markdown",
   "metadata": {},
   "source": [
    "## 3. Construcción y Evaluación de Modelos Individuales\n",
    "\n",
    "Se construirán y evaluarán al menos 6 modelos de clasificación individuales. Para cada modelo, se medirá:\n",
    "- Tiempo de entrenamiento.\n",
    "- Accuracy.\n",
    "- F1-Score (Macro).\n",
    "- Precision (Macro).\n",
    "- Recall (Macro).\n",
    "\n",
    "La métrica principal para la comparación será el **F1-Score (Macro)**."
   ]
  },
  {
   "cell_type": "code",
   "execution_count": null,
   "metadata": {},
   "outputs": [],
   "source": [
    "models = {\n",
    "    \"Regresión Logística\": LogisticRegression(max_iter=1000, random_state=42, solver='liblinear'),\n",
    "    \"K-Nearest Neighbors (KNN)\": KNeighborsClassifier(n_neighbors=5),\n",
    "    \"Árbol de Decisión\": DecisionTreeClassifier(random_state=42),\n",
    "    \"SVM (Linear)\": SVC(kernel='linear', probability=True, random_state=42),\n",
    "    \"SVM (RBF)\": SVC(kernel='rbf', probability=True, random_state=42),\n",
    "    \"Gaussian NB\": GaussianNB(),\n",
    "    \"LDA\": LinearDiscriminantAnalysis(),\n",
    "    \"MLP\": MLPClassifier(max_iter=500, random_state=42, hidden_layer_sizes=(64,), early_stopping=True)\n",
    "}\n",
    "\n",
    "results = []\n",
    "for name, m in models.items():\n",
    "    print(f\"Entrenando {name}…\")\n",
    "    start = time.time()\n",
    "    if name in [\"Árbol de Decisión\", \"Gaussian NB\"]:\n",
    "        m.fit(X_train, y_train)\n",
    "        pred = m.predict(X_test)\n",
    "    else:\n",
    "        m.fit(X_train_scaled, y_train)\n",
    "        pred = m.predict(X_test_scaled)\n",
    "    t = time.time() - start\n",
    "    results.append({\n",
    "        \"Modelo\": name,\n",
    "        \"Tiempo (s)\": round(t,4),\n",
    "        \"Accuracy\": round(accuracy_score(y_test,pred),4),\n",
    "        \"F1-Macro\": round(f1_score(y_test,pred,average='macro'),4)\n",
    "    })\n",
    "df_results = pd.DataFrame(results).sort_values(\"F1-Macro\",ascending=False)\n",
    "df_results"
   ]
  },
  {
   "cell_type": "markdown",
   "metadata": {},
   "source": [
    "## 4. Selección de los Dos Mejores Modelos y Ajuste de Hiperparámetros\n",
    "– Continúa con GridSearchCV sobre los dos primeros…"
   ]
  },
  {
   "cell_type": "markdown",
   "metadata": {},
   "source": [
    "## 7. Conclusiones del Avance\n",
    "\n",
    "**[Aquí resume tus conclusiones principales.]**"
   ]
  }
 ],
 "metadata": {
  "kernelspec": {
   "display_name": "Python 3 (ipykernel)",
   "language": "python",
   "name": "python3"
  },
  "language_info": {
   "codemirror_mode": {
    "name": "ipython",
    "version": 3
   },
   "file_extension": ".py",
   "mimetype": "text/x-python",
   "name": "python",
   "nbconvert_exporter": "python",
   "pygments_lexer": "ipython3",
   "version": "3.10.9"
  }
 },
 "nbformat": 4,
 "nbformat_minor": 5
}
